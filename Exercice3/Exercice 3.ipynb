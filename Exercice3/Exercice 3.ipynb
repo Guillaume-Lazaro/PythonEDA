{
 "cells": [
  {
   "cell_type": "code",
   "execution_count": 1,
   "metadata": {},
   "outputs": [
    {
     "name": "stdout",
     "output_type": "stream",
     "text": [
      "Nom: Ilyass\n",
      "Prénom: Math\n",
      "Date de naissance: 1 / 7 / 1982\n",
      "Nom: Ilyass\n",
      "Prénom: Math\n",
      "Date de naissance: 1 / 7 / 1985\n",
      "Salaire: 7865.548\n",
      "Nom: Dupont\n",
      "Prénom: Paul\n",
      "Date de naissance: 13 / 10 / 1993\n",
      "Salaire: 1150.0\n",
      "Service: RH\n"
     ]
    }
   ],
   "source": [
    "from DateNaissance import *\n",
    "from Personne import *\n",
    "from Employe import *\n",
    "from Chef import *\n",
    "\n",
    "P = Personne(\"Ilyass\",\"Math\",DateNaissance(1,7,1982))\n",
    "P.afficher()\n",
    "\n",
    "E = Employe(\"Ilyass\",\"Math\",DateNaissance(1,7,1985),7865.548)\n",
    "E.afficher()\n",
    "\n",
    "Ch = Chef(\"Dupont\",\"Paul\",DateNaissance(13,10,1993),1150.0, \"RH\")\n",
    "Ch.afficher()"
   ]
  },
  {
   "cell_type": "code",
   "execution_count": null,
   "metadata": {},
   "outputs": [],
   "source": []
  }
 ],
 "metadata": {
  "kernelspec": {
   "display_name": "Python 3",
   "language": "python",
   "name": "python3"
  },
  "language_info": {
   "codemirror_mode": {
    "name": "ipython",
    "version": 3
   },
   "file_extension": ".py",
   "mimetype": "text/x-python",
   "name": "python",
   "nbconvert_exporter": "python",
   "pygments_lexer": "ipython3",
   "version": "3.8.3"
  }
 },
 "nbformat": 4,
 "nbformat_minor": 4
}
