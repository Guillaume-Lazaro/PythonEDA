{
 "cells": [
  {
   "cell_type": "code",
   "execution_count": 1,
   "metadata": {},
   "outputs": [],
   "source": [
    "import numpy as np"
   ]
  },
  {
   "cell_type": "markdown",
   "metadata": {},
   "source": [
    "# Quelques fonctions utiles"
   ]
  },
  {
   "cell_type": "markdown",
   "metadata": {},
   "source": [
    "On a créé un tableau 2D `rdm_mat` contenant des valeurs aléatoires. "
   ]
  },
  {
   "cell_type": "code",
   "execution_count": 2,
   "metadata": {},
   "outputs": [
    {
     "name": "stdout",
     "output_type": "stream",
     "text": [
      "[[0.35768044 0.0953438 ]\n",
      " [0.27300364 0.86116639]]\n"
     ]
    }
   ],
   "source": [
    "rdm_mat = np.random.rand(2,2)\n",
    "print(rdm_mat)"
   ]
  },
  {
   "cell_type": "markdown",
   "metadata": {},
   "source": [
    "Donner le type de la variable rdm_mat"
   ]
  },
  {
   "cell_type": "code",
   "execution_count": 3,
   "metadata": {},
   "outputs": [
    {
     "name": "stdout",
     "output_type": "stream",
     "text": [
      "float64\n"
     ]
    }
   ],
   "source": [
    "print(rdm_mat.dtype)"
   ]
  },
  {
   "cell_type": "markdown",
   "metadata": {},
   "source": [
    "Donner la somme des éléments de ce tableau 2D"
   ]
  },
  {
   "cell_type": "code",
   "execution_count": 4,
   "metadata": {},
   "outputs": [
    {
     "name": "stdout",
     "output_type": "stream",
     "text": [
      "1.5871942669652068\n"
     ]
    }
   ],
   "source": [
    "print(rdm_mat.sum())"
   ]
  },
  {
   "cell_type": "markdown",
   "metadata": {},
   "source": [
    "Faire en sorte de récupérer la valeur maximale sur chaque ligne (sans boucles) avec la fonction np.max"
   ]
  },
  {
   "cell_type": "code",
   "execution_count": 5,
   "metadata": {},
   "outputs": [
    {
     "name": "stdout",
     "output_type": "stream",
     "text": [
      "[0.35768044 0.86116639]\n"
     ]
    }
   ],
   "source": [
    "print(np.amax(rdm_mat, axis=1))"
   ]
  },
  {
   "cell_type": "markdown",
   "metadata": {},
   "source": [
    "Faire de même pour récupérer la valeur maximum pour chaque colonne (sans boucles)"
   ]
  },
  {
   "cell_type": "code",
   "execution_count": 6,
   "metadata": {},
   "outputs": [
    {
     "name": "stdout",
     "output_type": "stream",
     "text": [
      "[0.35768044 0.86116639]\n"
     ]
    }
   ],
   "source": [
    "print(np.amax(rdm_mat, axis=0))"
   ]
  },
  {
   "cell_type": "markdown",
   "metadata": {},
   "source": [
    "Faire la même chose (max des lignes) en définissant un tableau avec une boucle for et la fonction max de numpy"
   ]
  },
  {
   "cell_type": "code",
   "execution_count": 7,
   "metadata": {},
   "outputs": [
    {
     "name": "stdout",
     "output_type": "stream",
     "text": [
      "[[0.35768044 0.0953438 ]\n",
      " [0.27300364 0.86116639]]\n",
      "[0.35768044 0.86116639]\n"
     ]
    }
   ],
   "source": [
    "print(rdm_mat)\n",
    "rdm_mat_max = np.array([])\n",
    "\n",
    "for cell in rdm_mat:\n",
    "    rdm_mat_max = np.append(rdm_mat_max, np.max(cell))\n",
    "    \n",
    "print(rdm_mat_max)"
   ]
  },
  {
   "cell_type": "code",
   "execution_count": null,
   "metadata": {},
   "outputs": [],
   "source": []
  },
  {
   "cell_type": "code",
   "execution_count": null,
   "metadata": {},
   "outputs": [],
   "source": []
  },
  {
   "cell_type": "markdown",
   "metadata": {},
   "source": [
    "On crée un vecteur aléatoire de taille 100 `rdm_vect`"
   ]
  },
  {
   "cell_type": "code",
   "execution_count": 8,
   "metadata": {},
   "outputs": [
    {
     "data": {
      "text/plain": [
       "(100,)"
      ]
     },
     "execution_count": 8,
     "metadata": {},
     "output_type": "execute_result"
    }
   ],
   "source": [
    "rdm_vect = np.random.randn(100)\n",
    "rdm_vect.shape"
   ]
  },
  {
   "cell_type": "markdown",
   "metadata": {},
   "source": [
    "Récupérer la position de la valeur maximale du vecteur avec la méthode np.argmax"
   ]
  },
  {
   "cell_type": "code",
   "execution_count": 9,
   "metadata": {},
   "outputs": [
    {
     "name": "stdout",
     "output_type": "stream",
     "text": [
      "[ 0.8939549  -0.1303815   0.13012448 -0.17998436 -0.66539662  1.78542237\n",
      " -0.14892988 -1.02310032  0.94209404  0.25090418  1.92623457 -0.14694858\n",
      " -0.19679739 -0.220496    0.77658276 -0.32552497  0.40978532  2.19785915\n",
      " -0.48733581  0.08887339  1.36610058 -0.06462653  0.24749235 -0.04582067\n",
      "  0.49679253 -0.36051465 -1.51641268 -0.99528745  0.07337359 -0.04720955\n",
      "  0.33038474  0.08767239 -0.47621572  0.17551813  0.6057756   0.69111224\n",
      "  0.57556052  1.87401568 -0.74941665  0.32816517  0.21187329 -0.95587559\n",
      " -1.02554761 -1.82886531  0.36125725  1.16705006 -1.54025609  0.94989662\n",
      "  0.66045594 -0.55800568  0.60959475  0.31136192  0.64203147 -0.79526439\n",
      "  1.0246308  -0.41975762 -0.07343838 -0.41240512 -0.77408082  1.03886013\n",
      " -0.44459862 -0.72745903  0.5032647  -1.48043783 -0.2614843   0.42050256\n",
      "  1.56797602 -1.08894964 -0.66087448 -1.55271899 -0.22668654  1.07769804\n",
      " -0.76341679  0.72135846  1.28117818 -1.968352    1.08503044  0.60118731\n",
      "  0.1821553  -1.73884074 -0.94306951 -1.57169997  0.16080227  0.69675105\n",
      " -1.85327886 -0.95306224 -1.10772116 -1.87583143 -0.18307084  0.26084697\n",
      "  1.28686377 -0.88717652  0.19700713  0.66997743  0.9340129  -0.22542311\n",
      "  1.07027043 -0.42744779 -0.92610174  1.01160464]\n",
      "17\n"
     ]
    }
   ],
   "source": [
    "print(rdm_vect)\n",
    "print(np.argmax(rdm_vect))"
   ]
  },
  {
   "cell_type": "markdown",
   "metadata": {},
   "source": [
    "Afficher cette valeur "
   ]
  },
  {
   "cell_type": "code",
   "execution_count": 10,
   "metadata": {},
   "outputs": [
    {
     "name": "stdout",
     "output_type": "stream",
     "text": [
      "2.197859153943341\n",
      "2.197859153943341\n"
     ]
    }
   ],
   "source": [
    "print(rdm_vect[np.argmax(rdm_vect)])\n",
    "# OU\n",
    "print(np.amax(rdm_vect))"
   ]
  },
  {
   "cell_type": "markdown",
   "metadata": {},
   "source": [
    "Convertir le vecteur en un tableau 10, 10"
   ]
  },
  {
   "cell_type": "code",
   "execution_count": 13,
   "metadata": {},
   "outputs": [
    {
     "name": "stdout",
     "output_type": "stream",
     "text": [
      "[[ 0.8939549  -0.1303815   0.13012448 -0.17998436 -0.66539662  1.78542237\n",
      "  -0.14892988 -1.02310032  0.94209404  0.25090418]\n",
      " [ 1.92623457 -0.14694858 -0.19679739 -0.220496    0.77658276 -0.32552497\n",
      "   0.40978532  2.19785915 -0.48733581  0.08887339]\n",
      " [ 1.36610058 -0.06462653  0.24749235 -0.04582067  0.49679253 -0.36051465\n",
      "  -1.51641268 -0.99528745  0.07337359 -0.04720955]\n",
      " [ 0.33038474  0.08767239 -0.47621572  0.17551813  0.6057756   0.69111224\n",
      "   0.57556052  1.87401568 -0.74941665  0.32816517]\n",
      " [ 0.21187329 -0.95587559 -1.02554761 -1.82886531  0.36125725  1.16705006\n",
      "  -1.54025609  0.94989662  0.66045594 -0.55800568]\n",
      " [ 0.60959475  0.31136192  0.64203147 -0.79526439  1.0246308  -0.41975762\n",
      "  -0.07343838 -0.41240512 -0.77408082  1.03886013]\n",
      " [-0.44459862 -0.72745903  0.5032647  -1.48043783 -0.2614843   0.42050256\n",
      "   1.56797602 -1.08894964 -0.66087448 -1.55271899]\n",
      " [-0.22668654  1.07769804 -0.76341679  0.72135846  1.28117818 -1.968352\n",
      "   1.08503044  0.60118731  0.1821553  -1.73884074]\n",
      " [-0.94306951 -1.57169997  0.16080227  0.69675105 -1.85327886 -0.95306224\n",
      "  -1.10772116 -1.87583143 -0.18307084  0.26084697]\n",
      " [ 1.28686377 -0.88717652  0.19700713  0.66997743  0.9340129  -0.22542311\n",
      "   1.07027043 -0.42744779 -0.92610174  1.01160464]]\n"
     ]
    }
   ],
   "source": [
    "rdm_array = rdm_vect.reshape(10,10)\n",
    "print(rdm_array)"
   ]
  },
  {
   "cell_type": "markdown",
   "metadata": {},
   "source": [
    "Calculer la moyenne de chaque ligne de ce tableau (sans boucles)"
   ]
  },
  {
   "cell_type": "code",
   "execution_count": 18,
   "metadata": {},
   "outputs": [
    {
     "name": "stdout",
     "output_type": "stream",
     "text": [
      "Moyenne de chaque lignes : [ 0.18547073  0.40222325 -0.08461125  0.34425721 -0.25580171  0.11515327\n",
      " -0.37247796  0.02513117 -0.73693337  0.27035871]\n",
      "Moyenne de chaque colonnes : [ 0.50106519 -0.30074354 -0.05812551 -0.22872635  0.27000702 -0.01885474\n",
      "  0.03218645 -0.0200063  -0.19228015 -0.09175205]\n"
     ]
    }
   ],
   "source": [
    "rdm_avg_row = np.mean(rdm_array, axis=1)\n",
    "print(\"Moyenne de chaque lignes : {}\".format(rdm_avg_row))\n",
    "\n",
    "rdm_avg_column = np.mean(rdm_array, axis=0)\n",
    "print(\"Moyenne de chaque colonnes : {}\".format(rdm_avg_column))"
   ]
  },
  {
   "cell_type": "markdown",
   "metadata": {},
   "source": [
    "Faire un tableau qui contient la moyenne de chaque colonne du tableau "
   ]
  },
  {
   "cell_type": "markdown",
   "metadata": {},
   "source": [
    "Calculer la somme de chaque colonne (sans boucles)"
   ]
  },
  {
   "cell_type": "code",
   "execution_count": 19,
   "metadata": {},
   "outputs": [
    {
     "name": "stdout",
     "output_type": "stream",
     "text": [
      "[ 1.8547073   4.02223245 -0.84611247  3.4425721  -2.5580171   1.15153274\n",
      " -3.72477961  0.25131166 -7.36933373  2.70358714]\n"
     ]
    }
   ],
   "source": [
    "rdm_sum_row = np.sum(rdm_array, axis=1)\n",
    "print(rdm_sum_row)"
   ]
  },
  {
   "cell_type": "markdown",
   "metadata": {},
   "source": [
    "Calculer la somme pour chaque ligne (sans boucles)"
   ]
  },
  {
   "cell_type": "code",
   "execution_count": 20,
   "metadata": {},
   "outputs": [
    {
     "name": "stdout",
     "output_type": "stream",
     "text": [
      "[ 5.01065192 -3.00743537 -0.5812551  -2.2872635   2.70007024 -0.18854735\n",
      "  0.32186455 -0.20006297 -1.92280146 -0.91752046]\n"
     ]
    }
   ],
   "source": [
    "rdm_sum_column = np.sum(rdm_array, axis=0)\n",
    "print(rdm_sum_column)"
   ]
  },
  {
   "cell_type": "code",
   "execution_count": null,
   "metadata": {},
   "outputs": [],
   "source": []
  }
 ],
 "metadata": {
  "kernelspec": {
   "display_name": "Python 3",
   "language": "python",
   "name": "python3"
  },
  "language_info": {
   "codemirror_mode": {
    "name": "ipython",
    "version": 3
   },
   "file_extension": ".py",
   "mimetype": "text/x-python",
   "name": "python",
   "nbconvert_exporter": "python",
   "pygments_lexer": "ipython3",
   "version": "3.8.3"
  },
  "latex_envs": {
   "LaTeX_envs_menu_present": true,
   "autoclose": false,
   "autocomplete": true,
   "bibliofile": "biblio.bib",
   "cite_by": "apalike",
   "current_citInitial": 1,
   "eqLabelWithNumbers": true,
   "eqNumInitial": 1,
   "hotkeys": {
    "equation": "Ctrl-E",
    "itemize": "Ctrl-I"
   },
   "labels_anchors": false,
   "latex_user_defs": false,
   "report_style_numbering": false,
   "user_envs_cfg": false
  },
  "toc": {
   "base_numbering": 1,
   "nav_menu": {},
   "number_sections": true,
   "sideBar": true,
   "skip_h1_title": false,
   "title_cell": "Table of Contents",
   "title_sidebar": "Contents",
   "toc_cell": false,
   "toc_position": {},
   "toc_section_display": true,
   "toc_window_display": false
  },
  "varInspector": {
   "cols": {
    "lenName": 16,
    "lenType": 16,
    "lenVar": 40
   },
   "kernels_config": {
    "python": {
     "delete_cmd_postfix": "",
     "delete_cmd_prefix": "del ",
     "library": "var_list.py",
     "varRefreshCmd": "print(var_dic_list())"
    },
    "r": {
     "delete_cmd_postfix": ") ",
     "delete_cmd_prefix": "rm(",
     "library": "var_list.r",
     "varRefreshCmd": "cat(var_dic_list()) "
    }
   },
   "types_to_exclude": [
    "module",
    "function",
    "builtin_function_or_method",
    "instance",
    "_Feature"
   ],
   "window_display": false
  }
 },
 "nbformat": 4,
 "nbformat_minor": 2
}
