{
 "cells": [
  {
   "cell_type": "code",
   "execution_count": 2,
   "metadata": {},
   "outputs": [],
   "source": [
    "import numpy as np"
   ]
  },
  {
   "cell_type": "markdown",
   "metadata": {},
   "source": [
    "# Quelques fonctions utiles"
   ]
  },
  {
   "cell_type": "markdown",
   "metadata": {},
   "source": [
    "On a créé un tableau 2D `rdm_mat` contenant des valeurs aléatoires. "
   ]
  },
  {
   "cell_type": "code",
   "execution_count": 30,
   "metadata": {},
   "outputs": [
    {
     "name": "stdout",
     "output_type": "stream",
     "text": [
      "[[0.01783361 0.93733579]\n",
      " [0.50824076 0.73445777]]\n"
     ]
    }
   ],
   "source": [
    "rdm_mat = np.random.rand(2,2)\n",
    "print(rdm_mat)"
   ]
  },
  {
   "cell_type": "markdown",
   "metadata": {},
   "source": [
    "Donner le type de la variable rdm_mat"
   ]
  },
  {
   "cell_type": "code",
   "execution_count": 31,
   "metadata": {},
   "outputs": [
    {
     "name": "stdout",
     "output_type": "stream",
     "text": [
      "float64\n"
     ]
    }
   ],
   "source": [
    "print(rdm_mat.dtype)"
   ]
  },
  {
   "cell_type": "markdown",
   "metadata": {},
   "source": [
    "Donner la somme des éléments de ce tableau 2D"
   ]
  },
  {
   "cell_type": "code",
   "execution_count": 32,
   "metadata": {},
   "outputs": [
    {
     "name": "stdout",
     "output_type": "stream",
     "text": [
      "2.197867927403992\n"
     ]
    }
   ],
   "source": [
    "print(rdm_mat.sum())"
   ]
  },
  {
   "cell_type": "markdown",
   "metadata": {},
   "source": [
    "Faire en sorte de récupérer la valeur maximale sur chaque ligne (sans boucles) avec la fonction np.max"
   ]
  },
  {
   "cell_type": "code",
   "execution_count": 33,
   "metadata": {},
   "outputs": [
    {
     "name": "stdout",
     "output_type": "stream",
     "text": [
      "[0.93733579 0.73445777]\n"
     ]
    }
   ],
   "source": [
    "print(np.amax(rdm_mat, axis=1))"
   ]
  },
  {
   "cell_type": "markdown",
   "metadata": {},
   "source": [
    "Faire de même pour récupérer la valeur maximum pour chaque colonne (sans boucles)"
   ]
  },
  {
   "cell_type": "code",
   "execution_count": 34,
   "metadata": {},
   "outputs": [
    {
     "name": "stdout",
     "output_type": "stream",
     "text": [
      "[0.50824076 0.93733579]\n"
     ]
    }
   ],
   "source": [
    "print(np.amax(rdm_mat, axis=0))"
   ]
  },
  {
   "cell_type": "markdown",
   "metadata": {},
   "source": [
    "Faire la même chose (max des lignes) en définissant un tableau avec une boucle for et la fonction max de numpy"
   ]
  },
  {
   "cell_type": "code",
   "execution_count": 41,
   "metadata": {},
   "outputs": [
    {
     "name": "stdout",
     "output_type": "stream",
     "text": [
      "[[0.01783361 0.93733579]\n",
      " [0.50824076 0.73445777]]\n",
      "[0.93733579 0.73445777]\n"
     ]
    }
   ],
   "source": [
    "print(rdm_mat)\n",
    "rdm_mat_max = np.array([])\n",
    "\n",
    "for cell in rdm_mat:\n",
    "    rdm_mat_max = np.append(rdm_mat_max, np.max(cell))\n",
    "    \n",
    "print(rdm_mat_max)"
   ]
  },
  {
   "cell_type": "code",
   "execution_count": null,
   "metadata": {},
   "outputs": [],
   "source": []
  },
  {
   "cell_type": "code",
   "execution_count": null,
   "metadata": {},
   "outputs": [],
   "source": []
  },
  {
   "cell_type": "markdown",
   "metadata": {},
   "source": [
    "On crée un vecteur aléatoire de taille 100 `rdm_vect`"
   ]
  },
  {
   "cell_type": "code",
   "execution_count": 42,
   "metadata": {},
   "outputs": [
    {
     "data": {
      "text/plain": [
       "(100,)"
      ]
     },
     "execution_count": 42,
     "metadata": {},
     "output_type": "execute_result"
    }
   ],
   "source": [
    "rdm_vect = np.random.randn(100)\n",
    "rdm_vect.shape"
   ]
  },
  {
   "cell_type": "markdown",
   "metadata": {},
   "source": [
    "Récupérer la position de la valeur maximale du vecteur avec la méthode np.argmax"
   ]
  },
  {
   "cell_type": "code",
   "execution_count": 44,
   "metadata": {},
   "outputs": [
    {
     "name": "stdout",
     "output_type": "stream",
     "text": [
      "[ 0.25311945  0.12490025 -0.76573653  1.63032612  0.73953279 -0.3779263\n",
      " -0.71083137 -1.7911933  -0.31757889 -0.72867053  0.22551603  0.11095739\n",
      " -2.6267494   0.16481054  0.08772707  1.11642325 -0.10460293 -0.50074346\n",
      " -0.87207369 -1.19241197  0.84053531 -1.58812692 -0.45735823 -1.37773681\n",
      " -0.6081273  -0.12175233 -0.21394957  0.03315243  0.68406257  1.53539985\n",
      " -0.09271063  2.18187189 -1.59623803 -0.22980654  0.14944945  1.04077574\n",
      " -1.21793823  0.99576645  1.74869853  0.73312953  1.59009072  0.50599184\n",
      " -0.84762821 -1.43120507 -0.30939458  1.20800307  0.6570186   0.32871398\n",
      " -0.53735115  1.35989638  1.38768714 -0.1061481  -0.46241773  0.48877374\n",
      "  1.4264689  -0.57437466  1.08369188  0.86495671  1.83159272 -0.03456877\n",
      "  0.8467671   1.92410868  0.43886621  0.06074062  0.66990689  1.12287473\n",
      "  0.24649477  0.04434885 -0.25319856 -1.06927876  1.23117047 -0.47820697\n",
      "  0.99625125  0.09541675 -2.14607874  0.89503644 -0.61409998  0.37614335\n",
      "  1.15719127  0.26475487 -0.78960509 -1.28511591  0.02961517 -0.42424515\n",
      "  0.01420154  0.11949504  0.0402758   0.41561001  0.54371266 -1.98652785\n",
      "  0.53931831  0.04916578 -0.83089584  0.25127827  0.15532608 -1.64515075\n",
      "  0.83893314  0.9173101  -0.60632736 -0.7339904 ]\n",
      "31\n"
     ]
    }
   ],
   "source": [
    "print(rdm_vect)\n",
    "print(np.argmax(rdm_vect))"
   ]
  },
  {
   "cell_type": "markdown",
   "metadata": {},
   "source": [
    "Afficher cette valeur "
   ]
  },
  {
   "cell_type": "code",
   "execution_count": null,
   "metadata": {},
   "outputs": [],
   "source": []
  },
  {
   "cell_type": "markdown",
   "metadata": {},
   "source": [
    "Convertir le vecteur en un tableau 10, 10"
   ]
  },
  {
   "cell_type": "code",
   "execution_count": 20,
   "metadata": {},
   "outputs": [
    {
     "data": {
      "text/plain": [
       "array([[-2.99441404e-01,  1.78419461e+00,  1.62824730e+00,\n",
       "         5.76998680e-01, -1.00798820e+00, -1.17629307e-01,\n",
       "        -9.59793928e-01,  2.51709966e+00, -4.57689923e-01,\n",
       "         5.64083233e-01],\n",
       "       [ 1.08857553e+00,  1.25553582e+00,  1.41174036e+00,\n",
       "         7.04405054e-01,  1.76417213e+00,  2.95989674e-01,\n",
       "        -2.48375632e-01, -2.73836034e-01, -1.54983085e+00,\n",
       "         6.81613252e-01],\n",
       "       [-2.30990058e-04, -4.59307174e-01, -2.76918402e-01,\n",
       "         1.39001379e-01, -3.43068545e-01,  1.38215348e+00,\n",
       "         2.21448409e-01,  1.34330582e+00, -3.28983492e-01,\n",
       "        -1.48319122e+00],\n",
       "       [ 6.03851209e-02,  4.42199292e-01, -1.96886665e+00,\n",
       "        -3.67291142e-01, -5.92191022e-01, -1.07593701e+00,\n",
       "        -9.94270773e-01,  1.75063721e+00,  1.02451250e+00,\n",
       "        -5.22313882e-03],\n",
       "       [ 1.35937353e+00,  1.37572412e+00, -1.26344802e+00,\n",
       "        -2.74771048e-01,  2.38997913e-01, -7.38658517e-01,\n",
       "         1.31298051e+00,  1.60500160e-01,  1.03054547e-01,\n",
       "         1.03893725e+00],\n",
       "       [-3.98182647e-01, -2.59133869e+00,  9.32274910e-01,\n",
       "        -1.22843844e+00, -6.85106029e-01, -4.63739591e-01,\n",
       "        -5.60599024e-02, -2.27276744e-01, -1.73552516e+00,\n",
       "        -7.30992666e-01],\n",
       "       [-9.16355398e-01, -7.24696882e-01, -6.31729340e-01,\n",
       "        -1.11432900e-01, -3.47884718e-01,  1.76089543e-01,\n",
       "         1.05032011e-01,  2.11527609e+00,  2.00573881e-01,\n",
       "         1.86640364e+00],\n",
       "       [-1.25632020e+00,  1.16839002e+00,  3.80515864e-01,\n",
       "        -5.84613669e-02, -1.93599915e+00,  4.63018686e-01,\n",
       "        -9.13881056e-01, -2.91268450e-02,  1.07591365e-01,\n",
       "         4.57612288e-01],\n",
       "       [-5.24577378e-01, -2.33774687e-01,  9.66313178e-02,\n",
       "        -5.63094439e-01,  8.13719865e-01, -1.30332652e-01,\n",
       "         8.92711905e-01,  3.67957145e-01,  7.40953965e-01,\n",
       "        -2.88723130e-01],\n",
       "       [-1.57250892e+00,  1.28364476e+00, -1.00251670e+00,\n",
       "         1.29945135e+00,  1.36026717e+00,  2.10829296e-01,\n",
       "        -4.84515710e-01,  2.26883549e+00,  1.98624255e-01,\n",
       "        -5.33793040e-01]])"
      ]
     },
     "execution_count": 20,
     "metadata": {},
     "output_type": "execute_result"
    }
   ],
   "source": []
  },
  {
   "cell_type": "markdown",
   "metadata": {},
   "source": [
    "Calculer la moyenne de chaque ligne de ce tableau (sans boucles)"
   ]
  },
  {
   "cell_type": "code",
   "execution_count": 21,
   "metadata": {},
   "outputs": [
    {
     "data": {
      "text/plain": [
       "array([-2.45928276e-01,  3.30057119e-01, -6.94069374e-02,  1.16367130e-02,\n",
       "       -7.35080583e-02,  1.78359994e-04, -1.12472416e-01,  9.99337195e-01,\n",
       "       -1.69671892e-01,  1.56672647e-01])"
      ]
     },
     "execution_count": 21,
     "metadata": {},
     "output_type": "execute_result"
    }
   ],
   "source": []
  },
  {
   "cell_type": "markdown",
   "metadata": {},
   "source": [
    "Faire un tableau qui contient la moyenne de chaque colonne du tableau "
   ]
  },
  {
   "cell_type": "markdown",
   "metadata": {},
   "source": [
    "Calculer la somme de chaque colonne (sans boucles)"
   ]
  },
  {
   "cell_type": "code",
   "execution_count": 23,
   "metadata": {},
   "outputs": [
    {
     "data": {
      "text/plain": [
       "array([ 4.22808072,  5.1299893 ,  0.19420926, -1.72604562,  3.31269044,\n",
       "       -7.18438496,  1.73127593, -1.61666039,  1.17147191,  3.02831796])"
      ]
     },
     "execution_count": 23,
     "metadata": {},
     "output_type": "execute_result"
    }
   ],
   "source": []
  },
  {
   "cell_type": "markdown",
   "metadata": {},
   "source": [
    "Calculer la somme pour chaque ligne (sans boucles)"
   ]
  },
  {
   "cell_type": "code",
   "execution_count": 24,
   "metadata": {},
   "outputs": [
    {
     "data": {
      "text/plain": [
       "array([-2.45928276e+00,  3.30057119e+00, -6.94069374e-01,  1.16367130e-01,\n",
       "       -7.35080583e-01,  1.78359994e-03, -1.12472416e+00,  9.99337195e+00,\n",
       "       -1.69671892e+00,  1.56672647e+00])"
      ]
     },
     "execution_count": 24,
     "metadata": {},
     "output_type": "execute_result"
    }
   ],
   "source": []
  },
  {
   "cell_type": "code",
   "execution_count": null,
   "metadata": {},
   "outputs": [],
   "source": []
  }
 ],
 "metadata": {
  "kernelspec": {
   "display_name": "Python 3",
   "language": "python",
   "name": "python3"
  },
  "language_info": {
   "codemirror_mode": {
    "name": "ipython",
    "version": 3
   },
   "file_extension": ".py",
   "mimetype": "text/x-python",
   "name": "python",
   "nbconvert_exporter": "python",
   "pygments_lexer": "ipython3",
   "version": "3.8.3"
  },
  "latex_envs": {
   "LaTeX_envs_menu_present": true,
   "autoclose": false,
   "autocomplete": true,
   "bibliofile": "biblio.bib",
   "cite_by": "apalike",
   "current_citInitial": 1,
   "eqLabelWithNumbers": true,
   "eqNumInitial": 1,
   "hotkeys": {
    "equation": "Ctrl-E",
    "itemize": "Ctrl-I"
   },
   "labels_anchors": false,
   "latex_user_defs": false,
   "report_style_numbering": false,
   "user_envs_cfg": false
  },
  "toc": {
   "base_numbering": 1,
   "nav_menu": {},
   "number_sections": true,
   "sideBar": true,
   "skip_h1_title": false,
   "title_cell": "Table of Contents",
   "title_sidebar": "Contents",
   "toc_cell": false,
   "toc_position": {},
   "toc_section_display": true,
   "toc_window_display": false
  },
  "varInspector": {
   "cols": {
    "lenName": 16,
    "lenType": 16,
    "lenVar": 40
   },
   "kernels_config": {
    "python": {
     "delete_cmd_postfix": "",
     "delete_cmd_prefix": "del ",
     "library": "var_list.py",
     "varRefreshCmd": "print(var_dic_list())"
    },
    "r": {
     "delete_cmd_postfix": ") ",
     "delete_cmd_prefix": "rm(",
     "library": "var_list.r",
     "varRefreshCmd": "cat(var_dic_list()) "
    }
   },
   "types_to_exclude": [
    "module",
    "function",
    "builtin_function_or_method",
    "instance",
    "_Feature"
   ],
   "window_display": false
  }
 },
 "nbformat": 4,
 "nbformat_minor": 2
}
