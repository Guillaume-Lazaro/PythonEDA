{
 "cells": [
  {
   "cell_type": "markdown",
   "metadata": {},
   "source": [
    "# Numpy exercices pratiques\n",
    "Ce notebook à pour objectif de vous faire pratiquer numpy dans toute sa généralité. \n",
    "Vous avez donc une liste de questions à faire ! Il ne faut pas hésiter à faire des recherches sur google ainsi que voir la [documentation officielle](https://docs.scipy.org/doc/numpy-1.13.0/reference/). "
   ]
  },
  {
   "cell_type": "markdown",
   "metadata": {},
   "source": [
    "#### Q1 : Importer le package numpy "
   ]
  },
  {
   "cell_type": "code",
   "execution_count": 4,
   "metadata": {},
   "outputs": [],
   "source": [
    "import numpy as np"
   ]
  },
  {
   "cell_type": "markdown",
   "metadata": {},
   "source": [
    "#### Q2 : Afficher la version de numpy et la configuration "
   ]
  },
  {
   "cell_type": "code",
   "execution_count": 7,
   "metadata": {},
   "outputs": [
    {
     "name": "stdout",
     "output_type": "stream",
     "text": [
      "Numpy Version: 1.19.5\n"
     ]
    }
   ],
   "source": [
    "print(\"Numpy Version:\",np.__version__)"
   ]
  },
  {
   "cell_type": "markdown",
   "metadata": {},
   "source": [
    "#### Q3 : Créer un vecteur nul de taille 10"
   ]
  },
  {
   "cell_type": "code",
   "execution_count": 10,
   "metadata": {},
   "outputs": [],
   "source": [
    "v1 = np.empty(10)"
   ]
  },
  {
   "cell_type": "markdown",
   "metadata": {},
   "source": [
    "#### Q4 : Créer un vecteur null de taille 10 et affecter la valeur 1 à la 4ème place (index 4) du vecteur"
   ]
  },
  {
   "cell_type": "code",
   "execution_count": 14,
   "metadata": {},
   "outputs": [
    {
     "name": "stdout",
     "output_type": "stream",
     "text": [
      "1.0\n"
     ]
    }
   ],
   "source": [
    "v2 = np.empty(10)\n",
    "v2[5] = 1\n",
    "print (v2[5])"
   ]
  },
  {
   "cell_type": "markdown",
   "metadata": {},
   "source": [
    "#### Q5 : Créer un vecteur Z de 40 valeurs allant de 10 à 50 "
   ]
  },
  {
   "cell_type": "code",
   "execution_count": 20,
   "metadata": {},
   "outputs": [
    {
     "name": "stdout",
     "output_type": "stream",
     "text": [
      "30\n"
     ]
    }
   ],
   "source": [
    "v3 = np.arange(10, 50)\n",
    "print (v3[20])"
   ]
  },
  {
   "cell_type": "markdown",
   "metadata": {},
   "source": [
    "#### Q6 : Inverser Z (le premier élément devient donc le dernier)"
   ]
  },
  {
   "cell_type": "code",
   "execution_count": 23,
   "metadata": {},
   "outputs": [
    {
     "name": "stdout",
     "output_type": "stream",
     "text": [
      "[49 48 47 46 45 44 43 42 41 40 39 38 37 36 35 34 33 32 31 30 29 28 27 26\n",
      " 25 24 23 22 21 20 19 18 17 16 15 14 13 12 11 10]\n"
     ]
    }
   ],
   "source": [
    "v3 = v3[::-1]\n",
    "print(v3)"
   ]
  },
  {
   "cell_type": "markdown",
   "metadata": {},
   "source": [
    "#### Q7 : Créer une matrice 3x3 avec des valeurs comprise entre 0 et 8 "
   ]
  },
  {
   "cell_type": "code",
   "execution_count": 26,
   "metadata": {},
   "outputs": [
    {
     "name": "stdout",
     "output_type": "stream",
     "text": [
      "[[0 1 2]\n",
      " [3 4 5]\n",
      " [6 7 8]]\n"
     ]
    }
   ],
   "source": [
    "m1 = np.array([[0, 1, 2], [3, 4, 5], [6, 7, 8]])\n",
    "print(m1)"
   ]
  },
  {
   "cell_type": "markdown",
   "metadata": {},
   "source": [
    "#### Q8 : Créer une matrice identié 3x3 "
   ]
  },
  {
   "cell_type": "code",
   "execution_count": 27,
   "metadata": {},
   "outputs": [
    {
     "name": "stdout",
     "output_type": "stream",
     "text": [
      "[[1. 0. 0.]\n",
      " [0. 1. 0.]\n",
      " [0. 0. 1.]]\n"
     ]
    }
   ],
   "source": [
    "m2 = np.eye(3)\n",
    "print(m2)"
   ]
  },
  {
   "cell_type": "markdown",
   "metadata": {},
   "source": [
    "#### Q9 : Créer une matrice 3x3x3 avec des valeurs random "
   ]
  },
  {
   "cell_type": "code",
   "execution_count": 29,
   "metadata": {},
   "outputs": [
    {
     "name": "stdout",
     "output_type": "stream",
     "text": [
      "[[[0.40481957 0.52146739 0.74799843]\n",
      "  [0.7146348  0.72057741 0.127104  ]\n",
      "  [0.10473431 0.56971317 0.28811335]]\n",
      "\n",
      " [[0.42373943 0.06946309 0.58167362]\n",
      "  [0.66737683 0.93535156 0.22536265]\n",
      "  [0.69894003 0.56573267 0.5797152 ]]\n",
      "\n",
      " [[0.66373246 0.51771385 0.35168525]\n",
      "  [0.15269026 0.72763604 0.46615806]\n",
      "  [0.16006499 0.57754495 0.84006574]]]\n"
     ]
    }
   ],
   "source": [
    "m3 = np.random.rand(3,3,3)\n",
    "print(m3)"
   ]
  },
  {
   "cell_type": "markdown",
   "metadata": {},
   "source": [
    "#### Q10 : Créer une matrice 10x10 avec des valeurs random et afficher le minimum et maximum de cette matrice"
   ]
  },
  {
   "cell_type": "code",
   "execution_count": 35,
   "metadata": {},
   "outputs": [
    {
     "name": "stdout",
     "output_type": "stream",
     "text": [
      "Minimum: 0.008715588563434684\n",
      "Maximum: 0.9819906749431669\n"
     ]
    }
   ],
   "source": [
    "m4 = np.random.rand(10,10)\n",
    "print(\"Minimum: {}\".format(np.amin(m4)))\n",
    "print(\"Maximum: {}\".format(np.amax(m4)))"
   ]
  },
  {
   "cell_type": "markdown",
   "metadata": {},
   "source": [
    "#### Q11 : Créer une matrice 5x5 avec les valeurs 1,2,3,4 en dessous de la diagonale "
   ]
  },
  {
   "cell_type": "code",
   "execution_count": 43,
   "metadata": {},
   "outputs": [
    {
     "name": "stdout",
     "output_type": "stream",
     "text": [
      "[[0 0 0 0 0]\n",
      " [1 0 0 0 0]\n",
      " [0 2 0 0 0]\n",
      " [0 0 3 0 0]\n",
      " [0 0 0 4 0]]\n"
     ]
    }
   ],
   "source": [
    "m5 = np.diag(np.array([1,2,3,4]),-1)\n",
    "print(m5)"
   ]
  },
  {
   "cell_type": "markdown",
   "metadata": {},
   "source": [
    "#### Q12 : Créer une liste random de taille 5 et donner la somme de ses éléments  "
   ]
  },
  {
   "cell_type": "code",
   "execution_count": 47,
   "metadata": {},
   "outputs": [
    {
     "name": "stdout",
     "output_type": "stream",
     "text": [
      "Total de [0.32793897 0.72141377 0.51586145 0.01728281 0.74802449] : 2.3305214936667675\n"
     ]
    }
   ],
   "source": [
    "l1 = np.random.rand(5)\n",
    "print(\"Total de {} = {}\".format(l1, l1.sum()))"
   ]
  },
  {
   "cell_type": "markdown",
   "metadata": {},
   "source": [
    "#### Q13 : Créer une liste random de taille 5 et donner la moyenne de ses éléments"
   ]
  },
  {
   "cell_type": "code",
   "execution_count": 48,
   "metadata": {},
   "outputs": [
    {
     "name": "stdout",
     "output_type": "stream",
     "text": [
      "Moyenne de [0.57733985 0.71084811 0.03334267 0.40398462 0.19987977] = 0.38507900574732534\n"
     ]
    }
   ],
   "source": [
    "l2 = np.random.rand(5)\n",
    "print(\"Moyenne de {} = {}\".format(l2, l2.mean()))"
   ]
  },
  {
   "cell_type": "markdown",
   "metadata": {},
   "source": [
    "#### Q14 : En utilisant une fonction, donner la taille de la liste suivante :\n",
    "```python \n",
    "l = [x for x in range(11)]\n",
    "```"
   ]
  },
  {
   "cell_type": "code",
   "execution_count": 50,
   "metadata": {},
   "outputs": [
    {
     "name": "stdout",
     "output_type": "stream",
     "text": [
      "11\n"
     ]
    }
   ],
   "source": [
    "l = [x for x in range(11)]\n",
    "print(len(l))"
   ]
  },
  {
   "cell_type": "markdown",
   "metadata": {},
   "source": [
    "#### Q15 : Créer un tableau de taille 10 avec des valeurs comprises entre 0 et 1 EXCLUS "
   ]
  },
  {
   "cell_type": "code",
   "execution_count": 52,
   "metadata": {},
   "outputs": [
    {
     "name": "stdout",
     "output_type": "stream",
     "text": [
      "[0.  0.1 0.2 0.3 0.4 0.5 0.6 0.7 0.8 0.9]\n"
     ]
    }
   ],
   "source": [
    "a1 = np.arange(0, 1, 0.1)\n",
    "print(a1)"
   ]
  },
  {
   "cell_type": "markdown",
   "metadata": {},
   "source": [
    "#### Q16 : Soit deux tableau A et B de dimension 1 et de taille 5, créer A et B et afficher True si A et B sont égaux False sinon"
   ]
  },
  {
   "cell_type": "code",
   "execution_count": 60,
   "metadata": {},
   "outputs": [
    {
     "name": "stdout",
     "output_type": "stream",
     "text": [
      "FALSE\n"
     ]
    }
   ],
   "source": [
    "A = np.array([0,1,2,3,4])\n",
    "B = np.array([0,1,2,3,6])\n",
    "\n",
    "if np.greater_equal(A, B).all():\n",
    "    print(\"TRUE\")\n",
    "else :\n",
    "    print(\"FALSE\")"
   ]
  },
  {
   "cell_type": "markdown",
   "metadata": {},
   "source": [
    "#### Q17 : Convertir un tableau de float32 de dimension 1 et de taille 10 en un tableau de meme taille et dimension mais de type int32"
   ]
  },
  {
   "cell_type": "code",
   "execution_count": 63,
   "metadata": {},
   "outputs": [
    {
     "name": "stdout",
     "output_type": "stream",
     "text": [
      "Tableau de float : [0.  1.5 3.  4.5 6.  7.5 9. ]\n",
      "Tableau de int : [0 1 3 4 6 7 9]\n"
     ]
    }
   ],
   "source": [
    "a2_float = np.arange(0.0, 10.0, 1.5)\n",
    "print(\"Tableau de float : {}\".format(a2_float))\n",
    "\n",
    "a2_int = a2_float.astype(int)\n",
    "print(\"Tableau de int : {}\".format(a2_int))"
   ]
  },
  {
   "cell_type": "markdown",
   "metadata": {},
   "source": [
    "#### Q18 : Normaliser une matrice random 5x5 \n",
    "La normalisation d'un nombre X consiste à lui retirer sa moyenne et a diviser le tout par son écart type "
   ]
  },
  {
   "cell_type": "code",
   "execution_count": 78,
   "metadata": {},
   "outputs": [
    {
     "name": "stdout",
     "output_type": "stream",
     "text": [
      "[[0.1923804  0.95032203 0.89433078 0.09540389 0.39897762]\n",
      " [0.70161612 0.67827388 0.97346945 0.35673887 0.96724663]\n",
      " [0.8148779  0.03025111 0.84976139 0.13911327 0.55755061]\n",
      " [0.80069321 0.15433122 0.78664374 0.76638706 0.08818211]\n",
      " [0.5414404  0.53537334 0.96109685 0.24830666 0.9157747 ]]\n",
      "Moyenne de la matrice : 0.5759417286588764\n",
      "Ecart type : 0.3211358574877457\n",
      "[[-1.19438961  1.16580038  0.99144658 -1.49636931 -0.55105683]\n",
      " [ 0.39134336  0.31865687  1.23788019 -0.68258607  1.21850267]\n",
      " [ 0.74403455 -1.69925161  0.85265989 -1.36026061 -0.05726898]\n",
      " [ 0.69986417 -1.31287273  0.65611487  0.59303664 -1.51885754]\n",
      " [-0.10743532 -0.1263278   1.1993526  -1.02023819  1.05822183]]\n"
     ]
    }
   ],
   "source": [
    "m6 = np.random.rand(5, 5)\n",
    "print(m6)\n",
    "\n",
    "print(\"Moyenne de la matrice : {}\".format(m6.mean()))\n",
    "print(\"Ecart type : {}\".format(m6.std()))\n",
    "print( (m6-m6.mean())/m6.std() )"
   ]
  },
  {
   "cell_type": "markdown",
   "metadata": {},
   "source": [
    "#### Q19 : Créer une matrice random `M` 2x2 et donner sa transposer \n",
    "L'opération de transposition dans une matrice consiste à échanger les lignes et le colonnes. "
   ]
  },
  {
   "cell_type": "code",
   "execution_count": 67,
   "metadata": {},
   "outputs": [
    {
     "name": "stdout",
     "output_type": "stream",
     "text": [
      "[[0.92205859 0.93793199 0.76182963]\n",
      " [0.90065101 0.46625213 0.58011833]\n",
      " [0.60910744 0.72412307 0.73771136]]\n",
      "[[0.92205859 0.90065101 0.60910744]\n",
      " [0.93793199 0.46625213 0.72412307]\n",
      " [0.76182963 0.58011833 0.73771136]]\n"
     ]
    }
   ],
   "source": [
    "m7 = np.random.rand(3,3)\n",
    "print(m7)\n",
    "\n",
    "m7_transposed = m7.transpose()\n",
    "print(m7_transposed)"
   ]
  },
  {
   "cell_type": "markdown",
   "metadata": {},
   "source": [
    "#### Q20 : Écrire un petit script qui remplace un élément au hasard dans une matrice de dimension NxN"
   ]
  },
  {
   "cell_type": "code",
   "execution_count": 74,
   "metadata": {},
   "outputs": [
    {
     "name": "stdout",
     "output_type": "stream",
     "text": [
      "[[0.45049183 0.03655103 0.26620259 0.53945877]\n",
      " [0.99556542 0.0687954  0.50323418 0.69008718]\n",
      " [0.55805127 0.90309628 0.87093693 0.75314804]]\n",
      "[[4.50491831e-01 3.65510312e-02 5.55500000e+03 5.39458769e-01]\n",
      " [9.95565419e-01 6.87954034e-02 5.03234176e-01 6.90087185e-01]\n",
      " [5.58051267e-01 9.03096279e-01 8.70936935e-01 7.53148038e-01]]\n"
     ]
    }
   ],
   "source": [
    "import random\n",
    "\n",
    "def randomCellReplacer(matrix):\n",
    "    matrixLines  = np.size(matrix, 0)\n",
    "    matrixColumn = np.size(matrix, 1)\n",
    "    \n",
    "    matrix[random.randint(0, matrixLines)-1, random.randint(0, matrixLines)-1] = 5555\n",
    "\n",
    "m8 = np.random.rand(3,4)\n",
    "print(m8)\n",
    "\n",
    "randomCellReplacer(m8)\n",
    "print(m8)"
   ]
  },
  {
   "cell_type": "markdown",
   "metadata": {},
   "source": [
    "#### Q21 : Considérons une matrice de dimension (5,5,3), écrire un script qui multiplie cette matrice par une matrice de dimension (5,5)"
   ]
  },
  {
   "cell_type": "code",
   "execution_count": 75,
   "metadata": {},
   "outputs": [
    {
     "name": "stdout",
     "output_type": "stream",
     "text": [
      "[[[0.92998482 0.15566822 0.9955227 ]\n",
      "  [0.36440395 0.20456415 0.52306467]\n",
      "  [0.97172611 0.40183995 0.95304384]\n",
      "  [0.74626059 0.83322431 0.92344339]\n",
      "  [0.42198581 0.63737622 0.01253493]]\n",
      "\n",
      " [[0.03178042 0.7558678  0.33772547]\n",
      "  [0.25879399 0.138693   0.06289846]\n",
      "  [0.59169653 0.28522129 0.2621007 ]\n",
      "  [0.14227677 0.47988735 0.60007643]\n",
      "  [0.61365468 0.79322512 0.11248467]]\n",
      "\n",
      " [[0.49975878 0.97325543 0.50711089]\n",
      "  [0.03951501 0.17936312 0.55401131]\n",
      "  [0.11596388 0.25066355 0.94090494]\n",
      "  [0.09970587 0.45840685 0.16828718]\n",
      "  [0.37167304 0.48228835 0.96781254]]\n",
      "\n",
      " [[0.90429698 0.26891912 0.51483807]\n",
      "  [0.24466818 0.67468156 0.79886622]\n",
      "  [0.15177166 0.98800409 0.96229019]\n",
      "  [0.78468848 0.0750198  0.93015737]\n",
      "  [0.03629078 0.99888164 0.21865288]]\n",
      "\n",
      " [[0.91550809 0.3505525  0.48015949]\n",
      "  [0.22575047 0.84953141 0.53153363]\n",
      "  [0.89878668 0.95854382 0.96073008]\n",
      "  [0.53800334 0.69588285 0.65087312]\n",
      "  [0.12648477 0.39115868 0.27314105]]]\n"
     ]
    }
   ],
   "source": [
    "m9 = np.random.rand(5,5,3)\n",
    "print(m9)"
   ]
  },
  {
   "cell_type": "code",
   "execution_count": null,
   "metadata": {},
   "outputs": [],
   "source": []
  }
 ],
 "metadata": {
  "kernelspec": {
   "display_name": "Python 3",
   "language": "python",
   "name": "python3"
  },
  "language_info": {
   "codemirror_mode": {
    "name": "ipython",
    "version": 3
   },
   "file_extension": ".py",
   "mimetype": "text/x-python",
   "name": "python",
   "nbconvert_exporter": "python",
   "pygments_lexer": "ipython3",
   "version": "3.8.3"
  }
 },
 "nbformat": 4,
 "nbformat_minor": 2
}
