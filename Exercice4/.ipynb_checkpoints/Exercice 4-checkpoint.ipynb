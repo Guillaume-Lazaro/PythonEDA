{
 "cells": [
  {
   "cell_type": "code",
   "execution_count": 1,
   "metadata": {},
   "outputs": [
    {
     "name": "stdout",
     "output_type": "stream",
     "text": [
      "Lettre: \n",
      "Adresse destination: Lille\n",
      "Adresse expédition: Paris\n",
      "Poids: 80\n",
      "Mode: normal\n",
      "Format: A4\n",
      "tarif de base : 2.5 | poids : 80\n",
      "Prix du timbre: 2.58\n",
      "Colis: \n",
      "Adresse destination: Marrakech\n",
      "Adresse expédition: Barcelone\n",
      "Poids: 3500.0\n",
      "Mode: express\n",
      "Volume: 2.25\n",
      "Prix du timbre: 3.9375\n"
     ]
    }
   ],
   "source": [
    "from Courrier import *\n",
    "from Lettre import *\n",
    "from Colis import *\n",
    "\n",
    "L1 = Lettre(\"Lille\", \"Paris\", 80, \"normal\", \"A4\")\n",
    "L1.ToString()\n",
    "\n",
    "C1 = Colis(\"Marrakech\", \"Barcelone\", 3500.00, \"express\", 2.25)\n",
    "C1.ToString()"
   ]
  },
  {
   "cell_type": "code",
   "execution_count": null,
   "metadata": {},
   "outputs": [],
   "source": []
  }
 ],
 "metadata": {
  "kernelspec": {
   "display_name": "Python 3",
   "language": "python",
   "name": "python3"
  },
  "language_info": {
   "codemirror_mode": {
    "name": "ipython",
    "version": 3
   },
   "file_extension": ".py",
   "mimetype": "text/x-python",
   "name": "python",
   "nbconvert_exporter": "python",
   "pygments_lexer": "ipython3",
   "version": "3.8.3"
  }
 },
 "nbformat": 4,
 "nbformat_minor": 4
}
